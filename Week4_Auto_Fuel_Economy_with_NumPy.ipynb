{
  "nbformat": 4,
  "nbformat_minor": 0,
  "metadata": {
    "colab": {
      "name": "Week4-Auto Fuel Economy with NumPy.ipynb",
      "provenance": [],
      "collapsed_sections": [],
      "include_colab_link": true
    },
    "kernelspec": {
      "name": "python3",
      "display_name": "Python 3"
    }
  },
  "cells": [
    {
      "cell_type": "markdown",
      "metadata": {
        "id": "view-in-github",
        "colab_type": "text"
      },
      "source": [
        "<a href=\"https://colab.research.google.com/github/wujj0326/PDM/blob/master/Week4_Auto_Fuel_Economy_with_NumPy.ipynb\" target=\"_parent\"><img src=\"https://colab.research.google.com/assets/colab-badge.svg\" alt=\"Open In Colab\"/></a>"
      ]
    },
    {
      "cell_type": "markdown",
      "metadata": {
        "id": "FNKvy8F7d9gu",
        "colab_type": "text"
      },
      "source": [
        "#Week 4: NumPy Array\n",
        "\n",
        "This topic is about learning to work with Numerical Python (NumPy), one of the most popular libraries in Python. It makes it very easy to work with multi-dimensional numerical arrays and matrices with lending support for many mathematical functions.\n",
        "\n",
        "Please follow the following project to explore how NumPy would be useful in numerical data analysis."
      ]
    },
    {
      "cell_type": "markdown",
      "metadata": {
        "id": "KvRepKcJT9rE",
        "colab_type": "text"
      },
      "source": [
        "##Project: Auto Fuel Efficiency\n",
        "In this project we try to use all what we have learned so far, and mainly the numpy arrays to look into auto fuel efficiency and the factors that may contribute to that. Let's import our [datafile mpg.csv](https://drive.google.com/open?id=1u18kK0fEuXK7InOvpKTkz1yEbNlIM4i7), which contains fuel economy data for 398 cars. Here are the variables included in the dataset.\n",
        "* mpg: miles per gallon\n",
        "* cylinders: # of cylinders\n",
        "* displacement: engine displacement in liters\n",
        "* horsepower: engine horsepower\n",
        "* weight: vehicle weight\n",
        "* acceleration\n",
        "* model_year: year manufactured\n",
        "* origin: 1: North America;  2: Europe;  3: Asia and others\n",
        "* name: name of the car including make and model\n",
        "\n",
        "As for the first step, read open the file in a variable and read it as a csv file and load it into a list variable using the csv library. Checkout the first few items in the list. What does that look like?"
      ]
    },
    {
      "cell_type": "code",
      "metadata": {
        "id": "Oh2Hk8QA7xk-",
        "colab_type": "code",
        "outputId": "fd32ff42-480d-4ce6-a68b-a955749932c0",
        "colab": {
          "resources": {
            "http://localhost:8080/nbextensions/google.colab/files.js": {
              "data": "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",
              "ok": true,
              "headers": [
                [
                  "content-type",
                  "application/javascript"
                ]
              ],
              "status": 200,
              "status_text": ""
            }
          },
          "base_uri": "https://localhost:8080/",
          "height": 75
        }
      },
      "source": [
        "from google.colab import files\n",
        "uploaded = files.upload()"
      ],
      "execution_count": 3,
      "outputs": [
        {
          "output_type": "display_data",
          "data": {
            "text/html": [
              "\n",
              "     <input type=\"file\" id=\"files-133a4b8b-88c2-4a9c-97cc-a8de50d1afd2\" name=\"files[]\" multiple disabled />\n",
              "     <output id=\"result-133a4b8b-88c2-4a9c-97cc-a8de50d1afd2\">\n",
              "      Upload widget is only available when the cell has been executed in the\n",
              "      current browser session. Please rerun this cell to enable.\n",
              "      </output>\n",
              "      <script src=\"/nbextensions/google.colab/files.js\"></script> "
            ],
            "text/plain": [
              "<IPython.core.display.HTML object>"
            ]
          },
          "metadata": {
            "tags": []
          }
        },
        {
          "output_type": "stream",
          "text": [
            "Saving mpg.csv to mpg (3).csv\n"
          ],
          "name": "stdout"
        }
      ]
    },
    {
      "cell_type": "code",
      "metadata": {
        "id": "THv7Kg-FORxU",
        "colab_type": "code",
        "outputId": "d8186f3a-810c-4a7c-cb8f-37786da3d6fb",
        "colab": {
          "base_uri": "https://localhost:8080/",
          "height": 351
        }
      },
      "source": [
        "# First you should download the mpg.csv dataset from the above link to your computer. Then use the LEFT sidebar menue on this page \n",
        "# (Files --> Upload) to upload the scv to your colab session. You would have to do this every time you close your colab session.\n",
        "# After you uploaded the csv to your colab seccion, use this code to import the csv file into a list\n",
        "import csv\n",
        "\n",
        "csvfile=open('mpg.csv') # open the file into a variable\n",
        "mpg = list(csv.reader(csvfile)) # read the file as csv and then transfer it to a list\n",
        "mpg[:3] # check out the first three items in our list.\n"
      ],
      "execution_count": 4,
      "outputs": [
        {
          "output_type": "execute_result",
          "data": {
            "text/plain": [
              "[['mpg',\n",
              "  'cylinders',\n",
              "  'displacement',\n",
              "  'horsepower',\n",
              "  'weight',\n",
              "  'acceleration',\n",
              "  'model_year',\n",
              "  'origin',\n",
              "  'name'],\n",
              " ['18',\n",
              "  '8',\n",
              "  '307',\n",
              "  '130',\n",
              "  '3504',\n",
              "  '12',\n",
              "  '70',\n",
              "  '1',\n",
              "  'chevrolet chevelle malibu'],\n",
              " ['15', '8', '350', '165', '3693', '11.5', '70', '1', 'buick skylark 320']]"
            ]
          },
          "metadata": {
            "tags": []
          },
          "execution_count": 4
        }
      ]
    },
    {
      "cell_type": "markdown",
      "metadata": {
        "id": "PPvOmEoUmVvW",
        "colab_type": "text"
      },
      "source": [
        "We do not need the column headings as the first item. Lets move the headings to another variable."
      ]
    },
    {
      "cell_type": "code",
      "metadata": {
        "id": "UbsFn1cO8XkW",
        "colab_type": "code",
        "colab": {}
      },
      "source": [
        "headings=mpg[0]\n",
        "mpg1=mpg[1:]\n",
        "# print(mpg)\n",
        "# print(mpg1)"
      ],
      "execution_count": 0,
      "outputs": []
    },
    {
      "cell_type": "markdown",
      "metadata": {
        "id": "wR6iu0tw1Q02",
        "colab_type": "text"
      },
      "source": [
        "Try transforming the mpg dataset to NumPy array. What happens? \n",
        "\n",
        "Fix the issue by moving the name column to another list. You may do this any way you can and print out both the names and the mpg datasets. Can you do it with list comprehension?"
      ]
    },
    {
      "cell_type": "code",
      "metadata": {
        "id": "tpZXtlb5G9qz",
        "colab_type": "code",
        "outputId": "f371d34f-8fa2-4760-a3f4-d27ea9a27c69",
        "colab": {
          "base_uri": "https://localhost:8080/",
          "height": 125
        }
      },
      "source": [
        "import numpy as np\n",
        "npmpg=np.array(mpg)\n",
        "# all of list have been tranformed to a 2D array,but array could only store one data type. Therefore, it has all been defaulted String\n",
        "print(mpg[:3])\n",
        "print(npmpg[:3])\n"
      ],
      "execution_count": 6,
      "outputs": [
        {
          "output_type": "stream",
          "text": [
            "[['mpg', 'cylinders', 'displacement', 'horsepower', 'weight', 'acceleration', 'model_year', 'origin', 'name'], ['18', '8', '307', '130', '3504', '12', '70', '1', 'chevrolet chevelle malibu'], ['15', '8', '350', '165', '3693', '11.5', '70', '1', 'buick skylark 320']]\n",
            "[['mpg' 'cylinders' 'displacement' 'horsepower' 'weight' 'acceleration'\n",
            "  'model_year' 'origin' 'name']\n",
            " ['18' '8' '307' '130' '3504' '12' '70' '1' 'chevrolet chevelle malibu']\n",
            " ['15' '8' '350' '165' '3693' '11.5' '70' '1' 'buick skylark 320']]\n"
          ],
          "name": "stdout"
        }
      ]
    },
    {
      "cell_type": "code",
      "metadata": {
        "id": "7XaNu4yaPZ5C",
        "colab_type": "code",
        "outputId": "513df72a-72bc-4cb3-94e0-50c80092d033",
        "colab": {
          "base_uri": "https://localhost:8080/",
          "height": 52
        }
      },
      "source": [
        "names=[sub[-1] for sub in mpg1]\n",
        "mpg2=[sub[:8] for sub in mpg1]\n",
        "print(names[:3])\n",
        "print(mpg2[:3])"
      ],
      "execution_count": 7,
      "outputs": [
        {
          "output_type": "stream",
          "text": [
            "['chevrolet chevelle malibu', 'buick skylark 320', 'plymouth satellite']\n",
            "[['18', '8', '307', '130', '3504', '12', '70', '1'], ['15', '8', '350', '165', '3693', '11.5', '70', '1'], ['18', '8', '318', '150', '3436', '11', '70', '1']]\n"
          ],
          "name": "stdout"
        }
      ]
    },
    {
      "cell_type": "markdown",
      "metadata": {
        "id": "nGDL0NNH0q9M",
        "colab_type": "text"
      },
      "source": [
        "Try transforming the mpg dataset to NumPy array. What happens?\n",
        "\n",
        "To fix the issue, replace the '?' values with None which represents missing values in Python. Try again for transforing the mpg dataset to numpy array. Make sure the array items are of float format."
      ]
    },
    {
      "cell_type": "code",
      "metadata": {
        "id": "nQiFrg1FUV2u",
        "colab_type": "code",
        "outputId": "dc779a53-1210-4c1a-a4ed-d710b1f35b57",
        "colab": {
          "base_uri": "https://localhost:8080/",
          "height": 54
        }
      },
      "source": [
        "npmpg2=np.array(mpg2)\n",
        "#print(npmpg2[:3])\n",
        "\n",
        "a = [i for i in mpg2 if '?' in i]\n",
        "#b = [[x if x !=\"?\" else None for x in i] for i in mpg2 if '?']\n",
        "#print(a)\n",
        "#print(b)\n",
        "\n",
        "replace_na=[]\n",
        "mpg3_for=[]\n",
        "for i in mpg2:\n",
        "  if '?' in i:\n",
        "    replace_na=[]\n",
        "    for x in i:\n",
        "      if x!='?':\n",
        "        replace_na.append(x)\n",
        "      else: \n",
        "        replace_na.append(None)\n",
        "    mpg3_for.append(replace_na)\n",
        "  else:\n",
        "    mpg3_for.append(i)\n",
        "print(mpg3_for)\n",
        "# Using the normal loop\n"
      ],
      "execution_count": 49,
      "outputs": [
        {
          "output_type": "stream",
          "text": [
            "[['18', '8', '307', '130', '3504', '12', '70', '1'], ['15', '8', '350', '165', '3693', '11.5', '70', '1'], ['18', '8', '318', '150', '3436', '11', '70', '1'], ['16', '8', '304', '150', '3433', '12', '70', '1'], ['17', '8', '302', '140', '3449', '10.5', '70', '1'], ['15', '8', '429', '198', '4341', '10', '70', '1'], ['14', '8', '454', '220', '4354', '9', '70', '1'], ['14', '8', '440', '215', '4312', '8.5', '70', '1'], ['14', '8', '455', '225', '4425', '10', '70', '1'], ['15', '8', '390', '190', '3850', '8.5', '70', '1'], ['15', '8', '383', '170', '3563', '10', '70', '1'], ['14', '8', '340', '160', '3609', '8', '70', '1'], ['15', '8', '400', '150', '3761', '9.5', '70', '1'], ['14', '8', '455', '225', '3086', '10', '70', '1'], ['24', '4', '113', '95', '2372', '15', '70', '3'], ['22', '6', '198', '95', '2833', '15.5', '70', '1'], ['18', '6', '199', '97', '2774', '15.5', '70', '1'], ['21', '6', '200', '85', '2587', '16', '70', '1'], ['27', '4', '97', '88', '2130', '14.5', '70', '3'], ['26', '4', '97', '46', '1835', '20.5', '70', '2'], ['25', '4', '110', '87', '2672', '17.5', '70', '2'], ['24', '4', '107', '90', '2430', '14.5', '70', '2'], ['25', '4', '104', '95', '2375', '17.5', '70', '2'], ['26', '4', '121', '113', '2234', '12.5', '70', '2'], ['21', '6', '199', '90', '2648', '15', '70', '1'], ['10', '8', '360', '215', '4615', '14', '70', '1'], ['10', '8', '307', '200', '4376', '15', '70', '1'], ['11', '8', '318', '210', '4382', '13.5', '70', '1'], ['9', '8', '304', '193', '4732', '18.5', '70', '1'], ['27', '4', '97', '88', '2130', '14.5', '71', '3'], ['28', '4', '140', '90', '2264', '15.5', '71', '1'], ['25', '4', '113', '95', '2228', '14', '71', '3'], ['25', '4', '98', None, '2046', '19', '71', '1'], ['19', '6', '232', '100', '2634', '13', '71', '1'], ['16', '6', '225', '105', '3439', '15.5', '71', '1'], ['17', '6', '250', '100', '3329', '15.5', '71', '1'], ['19', '6', '250', '88', '3302', '15.5', '71', '1'], ['18', '6', '232', '100', '3288', '15.5', '71', '1'], ['14', '8', '350', '165', '4209', '12', '71', '1'], ['14', '8', '400', '175', '4464', '11.5', '71', '1'], ['14', '8', '351', '153', '4154', '13.5', '71', '1'], ['14', '8', '318', '150', '4096', '13', '71', '1'], ['12', '8', '383', '180', '4955', '11.5', '71', '1'], ['13', '8', '400', '170', '4746', '12', '71', '1'], ['13', '8', '400', '175', '5140', '12', '71', '1'], ['18', '6', '258', '110', '2962', '13.5', '71', '1'], ['22', '4', '140', '72', '2408', '19', '71', '1'], ['19', '6', '250', '100', '3282', '15', '71', '1'], ['18', '6', '250', '88', '3139', '14.5', '71', '1'], ['23', '4', '122', '86', '2220', '14', '71', '1'], ['28', '4', '116', '90', '2123', '14', '71', '2'], ['30', '4', '79', '70', '2074', '19.5', '71', '2'], ['30', '4', '88', '76', '2065', '14.5', '71', '2'], ['31', '4', '71', '65', '1773', '19', '71', '3'], ['35', '4', '72', '69', '1613', '18', '71', '3'], ['27', '4', '97', '60', '1834', '19', '71', '2'], ['26', '4', '91', '70', '1955', '20.5', '71', '1'], ['24', '4', '113', '95', '2278', '15.5', '72', '3'], ['25', '4', '97.5', '80', '2126', '17', '72', '1'], ['23', '4', '97', '54', '2254', '23.5', '72', '2'], ['20', '4', '140', '90', '2408', '19.5', '72', '1'], ['21', '4', '122', '86', '2226', '16.5', '72', '1'], ['13', '8', '350', '165', '4274', '12', '72', '1'], ['14', '8', '400', '175', '4385', '12', '72', '1'], ['15', '8', '318', '150', '4135', '13.5', '72', '1'], ['14', '8', '351', '153', '4129', '13', '72', '1'], ['17', '8', '304', '150', '3672', '11.5', '72', '1'], ['11', '8', '429', '208', '4633', '11', '72', '1'], ['13', '8', '350', '155', '4502', '13.5', '72', '1'], ['12', '8', '350', '160', '4456', '13.5', '72', '1'], ['13', '8', '400', '190', '4422', '12.5', '72', '1'], ['19', '3', '70', '97', '2330', '13.5', '72', '3'], ['15', '8', '304', '150', '3892', '12.5', '72', '1'], ['13', '8', '307', '130', '4098', '14', '72', '1'], ['13', '8', '302', '140', '4294', '16', '72', '1'], ['14', '8', '318', '150', '4077', '14', '72', '1'], ['18', '4', '121', '112', '2933', '14.5', '72', '2'], ['22', '4', '121', '76', '2511', '18', '72', '2'], ['21', '4', '120', '87', '2979', '19.5', '72', '2'], ['26', '4', '96', '69', '2189', '18', '72', '2'], ['22', '4', '122', '86', '2395', '16', '72', '1'], ['28', '4', '97', '92', '2288', '17', '72', '3'], ['23', '4', '120', '97', '2506', '14.5', '72', '3'], ['28', '4', '98', '80', '2164', '15', '72', '1'], ['27', '4', '97', '88', '2100', '16.5', '72', '3'], ['13', '8', '350', '175', '4100', '13', '73', '1'], ['14', '8', '304', '150', '3672', '11.5', '73', '1'], ['13', '8', '350', '145', '3988', '13', '73', '1'], ['14', '8', '302', '137', '4042', '14.5', '73', '1'], ['15', '8', '318', '150', '3777', '12.5', '73', '1'], ['12', '8', '429', '198', '4952', '11.5', '73', '1'], ['13', '8', '400', '150', '4464', '12', '73', '1'], ['13', '8', '351', '158', '4363', '13', '73', '1'], ['14', '8', '318', '150', '4237', '14.5', '73', '1'], ['13', '8', '440', '215', '4735', '11', '73', '1'], ['12', '8', '455', '225', '4951', '11', '73', '1'], ['13', '8', '360', '175', '3821', '11', '73', '1'], ['18', '6', '225', '105', '3121', '16.5', '73', '1'], ['16', '6', '250', '100', '3278', '18', '73', '1'], ['18', '6', '232', '100', '2945', '16', '73', '1'], ['18', '6', '250', '88', '3021', '16.5', '73', '1'], ['23', '6', '198', '95', '2904', '16', '73', '1'], ['26', '4', '97', '46', '1950', '21', '73', '2'], ['11', '8', '400', '150', '4997', '14', '73', '1'], ['12', '8', '400', '167', '4906', '12.5', '73', '1'], ['13', '8', '360', '170', '4654', '13', '73', '1'], ['12', '8', '350', '180', '4499', '12.5', '73', '1'], ['18', '6', '232', '100', '2789', '15', '73', '1'], ['20', '4', '97', '88', '2279', '19', '73', '3'], ['21', '4', '140', '72', '2401', '19.5', '73', '1'], ['22', '4', '108', '94', '2379', '16.5', '73', '3'], ['18', '3', '70', '90', '2124', '13.5', '73', '3'], ['19', '4', '122', '85', '2310', '18.5', '73', '1'], ['21', '6', '155', '107', '2472', '14', '73', '1'], ['26', '4', '98', '90', '2265', '15.5', '73', '2'], ['15', '8', '350', '145', '4082', '13', '73', '1'], ['16', '8', '400', '230', '4278', '9.5', '73', '1'], ['29', '4', '68', '49', '1867', '19.5', '73', '2'], ['24', '4', '116', '75', '2158', '15.5', '73', '2'], ['20', '4', '114', '91', '2582', '14', '73', '2'], ['19', '4', '121', '112', '2868', '15.5', '73', '2'], ['15', '8', '318', '150', '3399', '11', '73', '1'], ['24', '4', '121', '110', '2660', '14', '73', '2'], ['20', '6', '156', '122', '2807', '13.5', '73', '3'], ['11', '8', '350', '180', '3664', '11', '73', '1'], ['20', '6', '198', '95', '3102', '16.5', '74', '1'], ['21', '6', '200', None, '2875', '17', '74', '1'], ['19', '6', '232', '100', '2901', '16', '74', '1'], ['15', '6', '250', '100', '3336', '17', '74', '1'], ['31', '4', '79', '67', '1950', '19', '74', '3'], ['26', '4', '122', '80', '2451', '16.5', '74', '1'], ['32', '4', '71', '65', '1836', '21', '74', '3'], ['25', '4', '140', '75', '2542', '17', '74', '1'], ['16', '6', '250', '100', '3781', '17', '74', '1'], ['16', '6', '258', '110', '3632', '18', '74', '1'], ['18', '6', '225', '105', '3613', '16.5', '74', '1'], ['16', '8', '302', '140', '4141', '14', '74', '1'], ['13', '8', '350', '150', '4699', '14.5', '74', '1'], ['14', '8', '318', '150', '4457', '13.5', '74', '1'], ['14', '8', '302', '140', '4638', '16', '74', '1'], ['14', '8', '304', '150', '4257', '15.5', '74', '1'], ['29', '4', '98', '83', '2219', '16.5', '74', '2'], ['26', '4', '79', '67', '1963', '15.5', '74', '2'], ['26', '4', '97', '78', '2300', '14.5', '74', '2'], ['31', '4', '76', '52', '1649', '16.5', '74', '3'], ['32', '4', '83', '61', '2003', '19', '74', '3'], ['28', '4', '90', '75', '2125', '14.5', '74', '1'], ['24', '4', '90', '75', '2108', '15.5', '74', '2'], ['26', '4', '116', '75', '2246', '14', '74', '2'], ['24', '4', '120', '97', '2489', '15', '74', '3'], ['26', '4', '108', '93', '2391', '15.5', '74', '3'], ['31', '4', '79', '67', '2000', '16', '74', '2'], ['19', '6', '225', '95', '3264', '16', '75', '1'], ['18', '6', '250', '105', '3459', '16', '75', '1'], ['15', '6', '250', '72', '3432', '21', '75', '1'], ['15', '6', '250', '72', '3158', '19.5', '75', '1'], ['16', '8', '400', '170', '4668', '11.5', '75', '1'], ['15', '8', '350', '145', '4440', '14', '75', '1'], ['16', '8', '318', '150', '4498', '14.5', '75', '1'], ['14', '8', '351', '148', '4657', '13.5', '75', '1'], ['17', '6', '231', '110', '3907', '21', '75', '1'], ['16', '6', '250', '105', '3897', '18.5', '75', '1'], ['15', '6', '258', '110', '3730', '19', '75', '1'], ['18', '6', '225', '95', '3785', '19', '75', '1'], ['21', '6', '231', '110', '3039', '15', '75', '1'], ['20', '8', '262', '110', '3221', '13.5', '75', '1'], ['13', '8', '302', '129', '3169', '12', '75', '1'], ['29', '4', '97', '75', '2171', '16', '75', '3'], ['23', '4', '140', '83', '2639', '17', '75', '1'], ['20', '6', '232', '100', '2914', '16', '75', '1'], ['23', '4', '140', '78', '2592', '18.5', '75', '1'], ['24', '4', '134', '96', '2702', '13.5', '75', '3'], ['25', '4', '90', '71', '2223', '16.5', '75', '2'], ['24', '4', '119', '97', '2545', '17', '75', '3'], ['18', '6', '171', '97', '2984', '14.5', '75', '1'], ['29', '4', '90', '70', '1937', '14', '75', '2'], ['19', '6', '232', '90', '3211', '17', '75', '1'], ['23', '4', '115', '95', '2694', '15', '75', '2'], ['23', '4', '120', '88', '2957', '17', '75', '2'], ['22', '4', '121', '98', '2945', '14.5', '75', '2'], ['25', '4', '121', '115', '2671', '13.5', '75', '2'], ['33', '4', '91', '53', '1795', '17.5', '75', '3'], ['28', '4', '107', '86', '2464', '15.5', '76', '2'], ['25', '4', '116', '81', '2220', '16.9', '76', '2'], ['25', '4', '140', '92', '2572', '14.9', '76', '1'], ['26', '4', '98', '79', '2255', '17.7', '76', '1'], ['27', '4', '101', '83', '2202', '15.3', '76', '2'], ['17.5', '8', '305', '140', '4215', '13', '76', '1'], ['16', '8', '318', '150', '4190', '13', '76', '1'], ['15.5', '8', '304', '120', '3962', '13.9', '76', '1'], ['14.5', '8', '351', '152', '4215', '12.8', '76', '1'], ['22', '6', '225', '100', '3233', '15.4', '76', '1'], ['22', '6', '250', '105', '3353', '14.5', '76', '1'], ['24', '6', '200', '81', '3012', '17.6', '76', '1'], ['22.5', '6', '232', '90', '3085', '17.6', '76', '1'], ['29', '4', '85', '52', '2035', '22.2', '76', '1'], ['24.5', '4', '98', '60', '2164', '22.1', '76', '1'], ['29', '4', '90', '70', '1937', '14.2', '76', '2'], ['33', '4', '91', '53', '1795', '17.4', '76', '3'], ['20', '6', '225', '100', '3651', '17.7', '76', '1'], ['18', '6', '250', '78', '3574', '21', '76', '1'], ['18.5', '6', '250', '110', '3645', '16.2', '76', '1'], ['17.5', '6', '258', '95', '3193', '17.8', '76', '1'], ['29.5', '4', '97', '71', '1825', '12.2', '76', '2'], ['32', '4', '85', '70', '1990', '17', '76', '3'], ['28', '4', '97', '75', '2155', '16.4', '76', '3'], ['26.5', '4', '140', '72', '2565', '13.6', '76', '1'], ['20', '4', '130', '102', '3150', '15.7', '76', '2'], ['13', '8', '318', '150', '3940', '13.2', '76', '1'], ['19', '4', '120', '88', '3270', '21.9', '76', '2'], ['19', '6', '156', '108', '2930', '15.5', '76', '3'], ['16.5', '6', '168', '120', '3820', '16.7', '76', '2'], ['16.5', '8', '350', '180', '4380', '12.1', '76', '1'], ['13', '8', '350', '145', '4055', '12', '76', '1'], ['13', '8', '302', '130', '3870', '15', '76', '1'], ['13', '8', '318', '150', '3755', '14', '76', '1'], ['31.5', '4', '98', '68', '2045', '18.5', '77', '3'], ['30', '4', '111', '80', '2155', '14.8', '77', '1'], ['36', '4', '79', '58', '1825', '18.6', '77', '2'], ['25.5', '4', '122', '96', '2300', '15.5', '77', '1'], ['33.5', '4', '85', '70', '1945', '16.8', '77', '3'], ['17.5', '8', '305', '145', '3880', '12.5', '77', '1'], ['17', '8', '260', '110', '4060', '19', '77', '1'], ['15.5', '8', '318', '145', '4140', '13.7', '77', '1'], ['15', '8', '302', '130', '4295', '14.9', '77', '1'], ['17.5', '6', '250', '110', '3520', '16.4', '77', '1'], ['20.5', '6', '231', '105', '3425', '16.9', '77', '1'], ['19', '6', '225', '100', '3630', '17.7', '77', '1'], ['18.5', '6', '250', '98', '3525', '19', '77', '1'], ['16', '8', '400', '180', '4220', '11.1', '77', '1'], ['15.5', '8', '350', '170', '4165', '11.4', '77', '1'], ['15.5', '8', '400', '190', '4325', '12.2', '77', '1'], ['16', '8', '351', '149', '4335', '14.5', '77', '1'], ['29', '4', '97', '78', '1940', '14.5', '77', '2'], ['24.5', '4', '151', '88', '2740', '16', '77', '1'], ['26', '4', '97', '75', '2265', '18.2', '77', '3'], ['25.5', '4', '140', '89', '2755', '15.8', '77', '1'], ['30.5', '4', '98', '63', '2051', '17', '77', '1'], ['33.5', '4', '98', '83', '2075', '15.9', '77', '1'], ['30', '4', '97', '67', '1985', '16.4', '77', '3'], ['30.5', '4', '97', '78', '2190', '14.1', '77', '2'], ['22', '6', '146', '97', '2815', '14.5', '77', '3'], ['21.5', '4', '121', '110', '2600', '12.8', '77', '2'], ['21.5', '3', '80', '110', '2720', '13.5', '77', '3'], ['43.1', '4', '90', '48', '1985', '21.5', '78', '2'], ['36.1', '4', '98', '66', '1800', '14.4', '78', '1'], ['32.8', '4', '78', '52', '1985', '19.4', '78', '3'], ['39.4', '4', '85', '70', '2070', '18.6', '78', '3'], ['36.1', '4', '91', '60', '1800', '16.4', '78', '3'], ['19.9', '8', '260', '110', '3365', '15.5', '78', '1'], ['19.4', '8', '318', '140', '3735', '13.2', '78', '1'], ['20.2', '8', '302', '139', '3570', '12.8', '78', '1'], ['19.2', '6', '231', '105', '3535', '19.2', '78', '1'], ['20.5', '6', '200', '95', '3155', '18.2', '78', '1'], ['20.2', '6', '200', '85', '2965', '15.8', '78', '1'], ['25.1', '4', '140', '88', '2720', '15.4', '78', '1'], ['20.5', '6', '225', '100', '3430', '17.2', '78', '1'], ['19.4', '6', '232', '90', '3210', '17.2', '78', '1'], ['20.6', '6', '231', '105', '3380', '15.8', '78', '1'], ['20.8', '6', '200', '85', '3070', '16.7', '78', '1'], ['18.6', '6', '225', '110', '3620', '18.7', '78', '1'], ['18.1', '6', '258', '120', '3410', '15.1', '78', '1'], ['19.2', '8', '305', '145', '3425', '13.2', '78', '1'], ['17.7', '6', '231', '165', '3445', '13.4', '78', '1'], ['18.1', '8', '302', '139', '3205', '11.2', '78', '1'], ['17.5', '8', '318', '140', '4080', '13.7', '78', '1'], ['30', '4', '98', '68', '2155', '16.5', '78', '1'], ['27.5', '4', '134', '95', '2560', '14.2', '78', '3'], ['27.2', '4', '119', '97', '2300', '14.7', '78', '3'], ['30.9', '4', '105', '75', '2230', '14.5', '78', '1'], ['21.1', '4', '134', '95', '2515', '14.8', '78', '3'], ['23.2', '4', '156', '105', '2745', '16.7', '78', '1'], ['23.8', '4', '151', '85', '2855', '17.6', '78', '1'], ['23.9', '4', '119', '97', '2405', '14.9', '78', '3'], ['20.3', '5', '131', '103', '2830', '15.9', '78', '2'], ['17', '6', '163', '125', '3140', '13.6', '78', '2'], ['21.6', '4', '121', '115', '2795', '15.7', '78', '2'], ['16.2', '6', '163', '133', '3410', '15.8', '78', '2'], ['31.5', '4', '89', '71', '1990', '14.9', '78', '2'], ['29.5', '4', '98', '68', '2135', '16.6', '78', '3'], ['21.5', '6', '231', '115', '3245', '15.4', '79', '1'], ['19.8', '6', '200', '85', '2990', '18.2', '79', '1'], ['22.3', '4', '140', '88', '2890', '17.3', '79', '1'], ['20.2', '6', '232', '90', '3265', '18.2', '79', '1'], ['20.6', '6', '225', '110', '3360', '16.6', '79', '1'], ['17', '8', '305', '130', '3840', '15.4', '79', '1'], ['17.6', '8', '302', '129', '3725', '13.4', '79', '1'], ['16.5', '8', '351', '138', '3955', '13.2', '79', '1'], ['18.2', '8', '318', '135', '3830', '15.2', '79', '1'], ['16.9', '8', '350', '155', '4360', '14.9', '79', '1'], ['15.5', '8', '351', '142', '4054', '14.3', '79', '1'], ['19.2', '8', '267', '125', '3605', '15', '79', '1'], ['18.5', '8', '360', '150', '3940', '13', '79', '1'], ['31.9', '4', '89', '71', '1925', '14', '79', '2'], ['34.1', '4', '86', '65', '1975', '15.2', '79', '3'], ['35.7', '4', '98', '80', '1915', '14.4', '79', '1'], ['27.4', '4', '121', '80', '2670', '15', '79', '1'], ['25.4', '5', '183', '77', '3530', '20.1', '79', '2'], ['23', '8', '350', '125', '3900', '17.4', '79', '1'], ['27.2', '4', '141', '71', '3190', '24.8', '79', '2'], ['23.9', '8', '260', '90', '3420', '22.2', '79', '1'], ['34.2', '4', '105', '70', '2200', '13.2', '79', '1'], ['34.5', '4', '105', '70', '2150', '14.9', '79', '1'], ['31.8', '4', '85', '65', '2020', '19.2', '79', '3'], ['37.3', '4', '91', '69', '2130', '14.7', '79', '2'], ['28.4', '4', '151', '90', '2670', '16', '79', '1'], ['28.8', '6', '173', '115', '2595', '11.3', '79', '1'], ['26.8', '6', '173', '115', '2700', '12.9', '79', '1'], ['33.5', '4', '151', '90', '2556', '13.2', '79', '1'], ['41.5', '4', '98', '76', '2144', '14.7', '80', '2'], ['38.1', '4', '89', '60', '1968', '18.8', '80', '3'], ['32.1', '4', '98', '70', '2120', '15.5', '80', '1'], ['37.2', '4', '86', '65', '2019', '16.4', '80', '3'], ['28', '4', '151', '90', '2678', '16.5', '80', '1'], ['26.4', '4', '140', '88', '2870', '18.1', '80', '1'], ['24.3', '4', '151', '90', '3003', '20.1', '80', '1'], ['19.1', '6', '225', '90', '3381', '18.7', '80', '1'], ['34.3', '4', '97', '78', '2188', '15.8', '80', '2'], ['29.8', '4', '134', '90', '2711', '15.5', '80', '3'], ['31.3', '4', '120', '75', '2542', '17.5', '80', '3'], ['37', '4', '119', '92', '2434', '15', '80', '3'], ['32.2', '4', '108', '75', '2265', '15.2', '80', '3'], ['46.6', '4', '86', '65', '2110', '17.9', '80', '3'], ['27.9', '4', '156', '105', '2800', '14.4', '80', '1'], ['40.8', '4', '85', '65', '2110', '19.2', '80', '3'], ['44.3', '4', '90', '48', '2085', '21.7', '80', '2'], ['43.4', '4', '90', '48', '2335', '23.7', '80', '2'], ['36.4', '5', '121', '67', '2950', '19.9', '80', '2'], ['30', '4', '146', '67', '3250', '21.8', '80', '2'], ['44.6', '4', '91', '67', '1850', '13.8', '80', '3'], ['40.9', '4', '85', None, '1835', '17.3', '80', '2'], ['33.8', '4', '97', '67', '2145', '18', '80', '3'], ['29.8', '4', '89', '62', '1845', '15.3', '80', '2'], ['32.7', '6', '168', '132', '2910', '11.4', '80', '3'], ['23.7', '3', '70', '100', '2420', '12.5', '80', '3'], ['35', '4', '122', '88', '2500', '15.1', '80', '2'], ['23.6', '4', '140', None, '2905', '14.3', '80', '1'], ['32.4', '4', '107', '72', '2290', '17', '80', '3'], ['27.2', '4', '135', '84', '2490', '15.7', '81', '1'], ['26.6', '4', '151', '84', '2635', '16.4', '81', '1'], ['25.8', '4', '156', '92', '2620', '14.4', '81', '1'], ['23.5', '6', '173', '110', '2725', '12.6', '81', '1'], ['30', '4', '135', '84', '2385', '12.9', '81', '1'], ['39.1', '4', '79', '58', '1755', '16.9', '81', '3'], ['39', '4', '86', '64', '1875', '16.4', '81', '1'], ['35.1', '4', '81', '60', '1760', '16.1', '81', '3'], ['32.3', '4', '97', '67', '2065', '17.8', '81', '3'], ['37', '4', '85', '65', '1975', '19.4', '81', '3'], ['37.7', '4', '89', '62', '2050', '17.3', '81', '3'], ['34.1', '4', '91', '68', '1985', '16', '81', '3'], ['34.7', '4', '105', '63', '2215', '14.9', '81', '1'], ['34.4', '4', '98', '65', '2045', '16.2', '81', '1'], ['29.9', '4', '98', '65', '2380', '20.7', '81', '1'], ['33', '4', '105', '74', '2190', '14.2', '81', '2'], ['34.5', '4', '100', None, '2320', '15.8', '81', '2'], ['33.7', '4', '107', '75', '2210', '14.4', '81', '3'], ['32.4', '4', '108', '75', '2350', '16.8', '81', '3'], ['32.9', '4', '119', '100', '2615', '14.8', '81', '3'], ['31.6', '4', '120', '74', '2635', '18.3', '81', '3'], ['28.1', '4', '141', '80', '3230', '20.4', '81', '2'], ['30.7', '6', '145', '76', '3160', '19.6', '81', '2'], ['25.4', '6', '168', '116', '2900', '12.6', '81', '3'], ['24.2', '6', '146', '120', '2930', '13.8', '81', '3'], ['22.4', '6', '231', '110', '3415', '15.8', '81', '1'], ['26.6', '8', '350', '105', '3725', '19', '81', '1'], ['20.2', '6', '200', '88', '3060', '17.1', '81', '1'], ['17.6', '6', '225', '85', '3465', '16.6', '81', '1'], ['28', '4', '112', '88', '2605', '19.6', '82', '1'], ['27', '4', '112', '88', '2640', '18.6', '82', '1'], ['34', '4', '112', '88', '2395', '18', '82', '1'], ['31', '4', '112', '85', '2575', '16.2', '82', '1'], ['29', '4', '135', '84', '2525', '16', '82', '1'], ['27', '4', '151', '90', '2735', '18', '82', '1'], ['24', '4', '140', '92', '2865', '16.4', '82', '1'], ['23', '4', '151', None, '3035', '20.5', '82', '1'], ['36', '4', '105', '74', '1980', '15.3', '82', '2'], ['37', '4', '91', '68', '2025', '18.2', '82', '3'], ['31', '4', '91', '68', '1970', '17.6', '82', '3'], ['38', '4', '105', '63', '2125', '14.7', '82', '1'], ['36', '4', '98', '70', '2125', '17.3', '82', '1'], ['36', '4', '120', '88', '2160', '14.5', '82', '3'], ['36', '4', '107', '75', '2205', '14.5', '82', '3'], ['34', '4', '108', '70', '2245', '16.9', '82', '3'], ['38', '4', '91', '67', '1965', '15', '82', '3'], ['32', '4', '91', '67', '1965', '15.7', '82', '3'], ['38', '4', '91', '67', '1995', '16.2', '82', '3'], ['25', '6', '181', '110', '2945', '16.4', '82', '1'], ['38', '6', '262', '85', '3015', '17', '82', '1'], ['26', '4', '156', '92', '2585', '14.5', '82', '1'], ['22', '6', '232', '112', '2835', '14.7', '82', '1'], ['32', '4', '144', '96', '2665', '13.9', '82', '3'], ['36', '4', '135', '84', '2370', '13', '82', '1'], ['27', '4', '151', '90', '2950', '17.3', '82', '1'], ['27', '4', '140', '86', '2790', '15.6', '82', '1'], ['44', '4', '97', '52', '2130', '24.6', '82', '2'], ['32', '4', '135', '84', '2295', '11.6', '82', '1'], ['28', '4', '120', '79', '2625', '18.6', '82', '1'], ['31', '4', '119', '82', '2720', '19.4', '82', '1']]\n"
          ],
          "name": "stdout"
        }
      ]
    },
    {
      "cell_type": "code",
      "metadata": {
        "id": "myuG1egjv68u",
        "colab_type": "code",
        "outputId": "54516827-a1ea-4949-90f2-0882c9df3104",
        "colab": {
          "base_uri": "https://localhost:8080/",
          "height": 158
        }
      },
      "source": [
        "# mpg3=[x if x !=\"?\" else None for x in mpg2]\n",
        "mpg3 = [[x if x!='?' else None for x in i] if '?' in i else i for i in mpg2]\n",
        "# Using list comprehension\n",
        "# print([i for i in mpg3 if \"?\" in mpg3])\n",
        "npmpg3 = np.array(mpg3).astype(np.float32)\n",
        "\n",
        "print(mpg3[:3])\n",
        "print(npmpg3)"
      ],
      "execution_count": 9,
      "outputs": [
        {
          "output_type": "stream",
          "text": [
            "[['18', '8', '307', '130', '3504', '12', '70', '1'], ['15', '8', '350', '165', '3693', '11.5', '70', '1'], ['18', '8', '318', '150', '3436', '11', '70', '1']]\n",
            "[[ 18.    8.  307.  ...  12.   70.    1. ]\n",
            " [ 15.    8.  350.  ...  11.5  70.    1. ]\n",
            " [ 18.    8.  318.  ...  11.   70.    1. ]\n",
            " ...\n",
            " [ 32.    4.  135.  ...  11.6  82.    1. ]\n",
            " [ 28.    4.  120.  ...  18.6  82.    1. ]\n",
            " [ 31.    4.  119.  ...  19.4  82.    1. ]]\n"
          ],
          "name": "stdout"
        }
      ]
    },
    {
      "cell_type": "markdown",
      "metadata": {
        "id": "KcvxG-3i3lsk",
        "colab_type": "text"
      },
      "source": [
        "To make your data analysis easier, you may chose to read each column in a separate one dimensional array, and give them their heading names."
      ]
    },
    {
      "cell_type": "code",
      "metadata": {
        "id": "62N1l66wSM3K",
        "colab_type": "code",
        "colab": {}
      },
      "source": [
        "new_headings=headings[:8]\n",
        "\n",
        "# for i in range(8):\n",
        "#   str(new_headings[i])=[npmpg3[:,i]]\n",
        "\n",
        "# mpg=[npmpg3[:,0]]\n",
        "# cylinders=[npmpg3[:,1]]\n",
        "# displacement=[npmpg3[:,2]]\n",
        "# horsepower=[npmpg3[:,3]]\n",
        "# weight=[npmpg3[:,4]]\n",
        "# acceleration=[npmpg3[:,5]]\n",
        "# model_year=[npmpg3[:,6]]\n",
        "# origin=[npmpg3[:,7]]\n",
        "# def onedarray(num):\n",
        "#   data = npmpg3[:,num]\n",
        "#   return data\n",
        "  \n",
        "# for i in range(len(new_headings)):\n",
        "#   exec(f'{new_headings[i]}= onedarray(i)')\n",
        "  \n",
        "for i in range(len(new_headings)):\n",
        "  exec(f'{new_headings[i]}=npmpg3[:,i]')\n",
        "  \n",
        "# d={\n",
        "#      'mpg':[npmpg3[:,0]],\n",
        "#      'cylinders':[npmpg3[:,1]],\n",
        "#      'displacement':[npmpg3[:,2]],\n",
        "#      'horsepower':[npmpg3[:,3]],\n",
        "#      'weight':[npmpg3[:,4]],\n",
        "#      'acceleration':[npmpg3[:,5]],\n",
        "#      'model_year':[npmpg3[:,6]],\n",
        "#      'origin':[npmpg3[:,7]]\n",
        "# }\n"
      ],
      "execution_count": 0,
      "outputs": []
    },
    {
      "cell_type": "markdown",
      "metadata": {
        "id": "lEEHHhnc6Unn",
        "colab_type": "text"
      },
      "source": [
        "Calculate the average mpg for cars based on their number of cylendars. It means the average mpg for cars with 3, 4, 5, and other number of cylendars.\n",
        "\n",
        "Next, change the code to a function and use that function to calculate average mpg for each model_year."
      ]
    },
    {
      "cell_type": "code",
      "metadata": {
        "id": "VFQzZMeifGkl",
        "colab_type": "code",
        "outputId": "c53720ab-7e00-4a53-e863-5cf13487676b",
        "colab": {
          "base_uri": "https://localhost:8080/",
          "height": 105
        }
      },
      "source": [
        "def avg_mpg(x):\n",
        "  all_type=set(x)\n",
        "  for i in all_type:\n",
        "    print(i,mpg[x==i].mean()) \n",
        "# avg_mpg(model_year)\n",
        "\n",
        "def a2(x):  \n",
        "  all_type=set(x)\n",
        "  y=[]\n",
        "  for i in all_type:\n",
        "    y.append(mpg[x==i].mean())\n",
        "  return y\n",
        "#a2(cylinders)\n",
        "\n",
        "def a3(x):\n",
        "  all_type=set(x)\n",
        "  avg = [(i,mpg[x==i].mean()) for i in all_type]\n",
        "  return avg\n",
        "a3(cylinders)\n",
        "\n"
      ],
      "execution_count": 11,
      "outputs": [
        {
          "output_type": "execute_result",
          "data": {
            "text/plain": [
              "[(3.0, 20.55),\n",
              " (4.0, 29.286764),\n",
              " (5.0, 27.366667),\n",
              " (6.0, 19.985714),\n",
              " (8.0, 14.963106)]"
            ]
          },
          "metadata": {
            "tags": []
          },
          "execution_count": 11
        }
      ]
    },
    {
      "cell_type": "markdown",
      "metadata": {
        "id": "yuPjc3TC7Rzw",
        "colab_type": "text"
      },
      "source": [
        "Create a new column that includes only the make (manufacturer) of each car, like 'ford', 'chevy' and like that. Use the previous function and this new column to calculate the average mpg for each manufacturer."
      ]
    },
    {
      "cell_type": "code",
      "metadata": {
        "id": "9NbRzI1xjetr",
        "colab_type": "code",
        "outputId": "bbc257fe-4588-4171-f52c-7738e8917216",
        "colab": {
          "base_uri": "https://localhost:8080/",
          "height": 668
        }
      },
      "source": [
        "# print(names[0])\n",
        "new_name = [str(i).split(' ',1)[0] for i in names]\n",
        "#print(new_name)\n",
        "a3(np.array(new_name))"
      ],
      "execution_count": 12,
      "outputs": [
        {
          "output_type": "execute_result",
          "data": {
            "text/plain": [
              "[('datsun', 31.113045),\n",
              " ('cadillac', 19.75),\n",
              " ('pontiac', 20.0125),\n",
              " ('toyota', 28.372),\n",
              " ('renault', 32.879997),\n",
              " ('saab', 23.9),\n",
              " ('audi', 26.714285),\n",
              " ('chrysler', 17.266666),\n",
              " ('maxda', 26.05),\n",
              " ('chevrolet', 20.472094),\n",
              " ('honda', 33.76154),\n",
              " ('vw', 39.016666),\n",
              " ('ford', 19.694118),\n",
              " ('hi', 9.0),\n",
              " ('chevroelt', 16.0),\n",
              " ('bmw', 23.75),\n",
              " ('nissan', 36.0),\n",
              " ('mazda', 30.86),\n",
              " ('toyouta', 23.0),\n",
              " ('buick', 19.182354),\n",
              " ('volkswagen', 29.106667),\n",
              " ('dodge', 22.060715),\n",
              " ('peugeot', 23.6875),\n",
              " ('vokswagen', 29.8),\n",
              " ('mercedes-benz', 23.25),\n",
              " ('opel', 25.75),\n",
              " ('mercury', 19.118181),\n",
              " ('oldsmobile', 21.1),\n",
              " ('capri', 25.0),\n",
              " ('triumph', 35.0),\n",
              " ('amc', 18.246428),\n",
              " ('mercedes', 25.4),\n",
              " ('subaru', 30.525002),\n",
              " ('volvo', 21.116667),\n",
              " ('fiat', 28.9125),\n",
              " ('plymouth', 21.703228),\n",
              " ('chevy', 18.0)]"
            ]
          },
          "metadata": {
            "tags": []
          },
          "execution_count": 12
        }
      ]
    },
    {
      "cell_type": "markdown",
      "metadata": {
        "id": "x-yCCaYQ75M9",
        "colab_type": "text"
      },
      "source": [
        "Count the number of cars in the dataset for each manufacturer."
      ]
    },
    {
      "cell_type": "code",
      "metadata": {
        "id": "jnh6WP3sqWy6",
        "colab_type": "code",
        "outputId": "005aff29-662b-42cc-c8de-2b2752bd81fc",
        "colab": {
          "base_uri": "https://localhost:8080/",
          "height": 668
        }
      },
      "source": [
        "def a4(x):\n",
        "  all_type=set(x)\n",
        "  count = [(i,new_name.count(i)) for i in all_type]\n",
        "  return count\n",
        "a4(new_name)"
      ],
      "execution_count": 13,
      "outputs": [
        {
          "output_type": "execute_result",
          "data": {
            "text/plain": [
              "[('datsun', 23),\n",
              " ('cadillac', 2),\n",
              " ('pontiac', 16),\n",
              " ('toyota', 25),\n",
              " ('renault', 5),\n",
              " ('saab', 4),\n",
              " ('audi', 7),\n",
              " ('chrysler', 6),\n",
              " ('maxda', 2),\n",
              " ('chevrolet', 43),\n",
              " ('honda', 13),\n",
              " ('vw', 6),\n",
              " ('ford', 51),\n",
              " ('hi', 1),\n",
              " ('chevroelt', 1),\n",
              " ('bmw', 2),\n",
              " ('nissan', 1),\n",
              " ('mazda', 10),\n",
              " ('toyouta', 1),\n",
              " ('buick', 17),\n",
              " ('volkswagen', 15),\n",
              " ('dodge', 28),\n",
              " ('peugeot', 8),\n",
              " ('vokswagen', 1),\n",
              " ('mercedes-benz', 2),\n",
              " ('opel', 4),\n",
              " ('mercury', 11),\n",
              " ('oldsmobile', 10),\n",
              " ('capri', 1),\n",
              " ('triumph', 1),\n",
              " ('amc', 28),\n",
              " ('mercedes', 1),\n",
              " ('subaru', 4),\n",
              " ('volvo', 6),\n",
              " ('fiat', 8),\n",
              " ('plymouth', 31),\n",
              " ('chevy', 3)]"
            ]
          },
          "metadata": {
            "tags": []
          },
          "execution_count": 13
        }
      ]
    },
    {
      "cell_type": "markdown",
      "metadata": {
        "id": "jEAb2uzp8GXp",
        "colab_type": "text"
      },
      "source": [
        "Calculate the correlation beween mpg and other variables, like displacement, horsepower, wight and others. What are the most and least influential variables on auto fuel economy?"
      ]
    },
    {
      "cell_type": "code",
      "metadata": {
        "id": "HOGWoifbsO0c",
        "colab_type": "code",
        "outputId": "a3ef2c9a-8ba0-426d-a071-8531cbf6365e",
        "colab": {
          "base_uri": "https://localhost:8080/",
          "height": 175
        }
      },
      "source": [
        "# np.corrcoef(mpg,horsepower)\n",
        "# np.corrcoef(mpg,npmpg3[:,1])\n",
        "# print(npmpg3[:,0])\n",
        "# for i in range(len(cheadings)):\n",
        "#    exec(f'{cheadings[i]}=np.corrcoef(mpg,npmpg3[:,i])')\n",
        "\n",
        "cc=[(new_headings[i],np.corrcoef(mpg,npmpg3[:,i])) for i in range(8)]\n",
        "print(cc)\n",
        "\n"
      ],
      "execution_count": 14,
      "outputs": [
        {
          "output_type": "stream",
          "text": [
            "[('mpg', array([[1., 1.],\n",
            "       [1., 1.]])), ('cylinders', array([[ 1.        , -0.77539629],\n",
            "       [-0.77539629,  1.        ]])), ('displacement', array([[ 1.        , -0.80420283],\n",
            "       [-0.80420283,  1.        ]])), ('horsepower', array([[ 1., nan],\n",
            "       [nan, nan]])), ('weight', array([[ 1.        , -0.83174093],\n",
            "       [-0.83174093,  1.        ]])), ('acceleration', array([[1.       , 0.4202889],\n",
            "       [0.4202889, 1.       ]])), ('model_year', array([[1.        , 0.57926714],\n",
            "       [0.57926714, 1.        ]])), ('origin', array([[1.        , 0.56345036],\n",
            "       [0.56345036, 1.        ]]))]\n"
          ],
          "name": "stdout"
        }
      ]
    },
    {
      "cell_type": "markdown",
      "metadata": {
        "id": "kKiugb_z8uQA",
        "colab_type": "text"
      },
      "source": [
        "Use matplotlib library to plot average mpg for each manufacturer.\n",
        "\n",
        "Next, change your code to a function that plots average mpg for every variable it is given. Use the function to plot average mpg for each origin."
      ]
    },
    {
      "cell_type": "code",
      "metadata": {
        "id": "pbYLmGgoczL3",
        "colab_type": "code",
        "outputId": "e081f6b4-14a0-4bed-cd4d-b69b989d92e8",
        "colab": {
          "base_uri": "https://localhost:8080/",
          "height": 336
        }
      },
      "source": [
        "import matplotlib.pyplot as plt\n",
        "avg_make=a3(np.array(new_name))\n",
        "x=[avg_make[i][0] for i in range(len(avg_make))]\n",
        "y=[avg_make[i][1] for i in range(len(avg_make))]\n",
        "plt.plot(x,y)\n",
        "plt.xlabel='manufacturer'\n",
        "plt.ylabel='average'\n",
        "plt.xticks(rotation=90)\n",
        "plt.show()\n"
      ],
      "execution_count": 15,
      "outputs": [
        {
          "output_type": "display_data",
          "data": {
            "image/png": "[encoded data removed]",
            "text/plain": [
              "<Figure size 432x288 with 1 Axes>"
            ]
          },
          "metadata": {
            "tags": []
          }
        }
      ]
    },
    {
      "cell_type": "code",
      "metadata": {
        "id": "F7TUqqGPmna0",
        "colab_type": "code",
        "outputId": "5a0c4db2-723d-4031-f2c5-665c66fc1fad",
        "colab": {
          "base_uri": "https://localhost:8080/",
          "height": 266
        }
      },
      "source": [
        "def plot_avg(x):\n",
        "  avg_in=a3(np.array(x))\n",
        "  x=[avg_in[i][0] for i in range(len(avg_in))]\n",
        "  y=[avg_in[i][1] for i in range(len(avg_in))]\n",
        "  plt.plot(x,y)\n",
        "  plt.xlabel=f'x'\n",
        "  plt.ylabel='average'\n",
        "  plt.xticks(rotation=90)\n",
        "  plt.show()\n",
        "  \n",
        "plot_avg(cylinders)"
      ],
      "execution_count": 25,
      "outputs": [
        {
          "output_type": "display_data",
          "data": {
            "image/png": "[encoded data removed]",
            "text/plain": [
              "<Figure size 432x288 with 1 Axes>"
            ]
          },
          "metadata": {
            "tags": []
          }
        }
      ]
    }
  ]
}